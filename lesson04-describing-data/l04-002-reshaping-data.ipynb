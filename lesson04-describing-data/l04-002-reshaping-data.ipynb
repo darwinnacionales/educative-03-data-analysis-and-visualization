{
 "cells": [
  {
   "cell_type": "markdown",
   "id": "906a3fcb-8b68-4fb3-ac86-2f52e27917a0",
   "metadata": {},
   "source": [
    "# Pivot Table\n",
    "\n",
    "Somewhat like Excel, we can pivot our data using pandas pivot_table functionality. To do so, we will use the `pivot_table()` function.\n",
    "\n",
    "The `values` parameter is the column being used for aggregation, the `index` parameter is for the index values that creates multiple rows, and the `columns` parameter is for the value on which you want to have multiple columns created.\n",
    "\n",
    "You can also use the `aggfunc` parameter to pass a function with which to aggregate your pivots.\n",
    "\n",
    "Let’s look at an example:"
   ]
  },
  {
   "cell_type": "code",
   "execution_count": 2,
   "id": "2df7989f-5f1d-4c63-b827-b899ecf51589",
   "metadata": {},
   "outputs": [
    {
     "name": "stdout",
     "output_type": "stream",
     "text": [
      "label                            <=50K   >50K\n",
      "relationship   workclass                     \n",
      "Husband        ?                 30.72  37.33\n",
      "               Federal-gov       42.34  43.05\n",
      "               Local-gov         41.40  44.56\n",
      "               Private           42.50  46.18\n",
      "               Self-emp-inc      48.29  50.49\n",
      "               Self-emp-not-inc  46.01  48.07\n",
      "               State-gov         38.67  45.17\n",
      "               Without-pay       34.25    NaN\n",
      "Not-in-family  ?                 31.29  39.44\n",
      "               Federal-gov       40.60  47.54\n",
      "               Local-gov         40.38  45.01\n",
      "               Never-worked      35.00    NaN\n",
      "               Private           40.20  47.03\n",
      "               Self-emp-inc      49.06  53.58\n",
      "               Self-emp-not-inc  41.53  45.02\n",
      "               State-gov         38.87  44.19\n",
      "Other-relative ?                 29.10  40.00\n",
      "               Federal-gov       38.40  45.00\n",
      "               Local-gov         35.92  48.00\n",
      "               Private           37.44  40.74\n",
      "               Self-emp-inc      40.00  41.67\n",
      "               Self-emp-not-inc  36.16  49.29\n",
      "               State-gov         36.40  29.00\n",
      "Own-child      ?                 32.39  50.00\n",
      "               Federal-gov       35.11    NaN\n",
      "               Local-gov         35.59  41.25\n",
      "               Never-worked      24.80    NaN\n",
      "               Private           32.84  43.09\n",
      "               Self-emp-inc      39.60  43.75\n",
      "               Self-emp-not-inc  40.33  49.38\n",
      "               State-gov         30.10  38.33\n",
      "               Without-pay       35.00    NaN\n",
      "Unmarried      ?                 32.75  50.00\n",
      "               Federal-gov       39.30  43.65\n",
      "               Local-gov         40.09  45.79\n",
      "               Private           38.64  45.70\n",
      "               Self-emp-inc      45.74  58.11\n",
      "               Self-emp-not-inc  40.62  47.81\n",
      "               State-gov         38.15  44.56\n",
      "               Without-pay       37.50    NaN\n",
      "Wife           ?                 28.29  29.72\n",
      "               Federal-gov       38.93  39.74\n",
      "               Local-gov         37.87  40.38\n",
      "               Never-worked      40.00    NaN\n",
      "               Private           36.56  38.31\n",
      "               Self-emp-inc      44.67  38.14\n",
      "               Self-emp-not-inc  36.53  34.61\n",
      "               State-gov         36.50  39.10\n",
      "               Without-pay       23.67    NaN\n"
     ]
    }
   ],
   "source": [
    "import numpy as np\n",
    "import pandas as pd\n",
    "names = ['age', 'workclass', 'fnlwgt', 'education', 'educationnum', 'maritalstatus', 'occupation', 'relationship', 'race',\n",
    "        'sex', 'capitalgain', 'capitalloss', 'hoursperweek', 'nativecountry', 'label']\n",
    "train_df = pd.read_csv(\"adult/adult.data\", header=None, names=names)\n",
    "\n",
    "# Pivot the data frame to show by relationship, workclass (rows) and label (columns) the average hours per week.\n",
    "print(pd.pivot_table(train_df, values='hoursperweek', index=['relationship','workclass'], \n",
    "               columns=['label'], aggfunc='mean').round(2))"
   ]
  },
  {
   "cell_type": "markdown",
   "id": "74a34345-8088-488e-ae55-c7aa36be47d5",
   "metadata": {},
   "source": [
    "Now we have a table of the average hours per week for a given `relationship`, `workclass`, and `label`."
   ]
  },
  {
   "cell_type": "markdown",
   "id": "261f8030-2fce-47de-bafc-ad5af3d1fb0d",
   "metadata": {},
   "source": [
    "# Cross Tab\n",
    "\n",
    "`Crosstab` is a nice way to get frequency tables. What you do is pass two columns to the function and you will get the frequency of all the pair-wise combinations of those two variables.\n",
    "\n",
    "Let’s look at an example using **label** and **relationship** as our columns:"
   ]
  },
  {
   "cell_type": "code",
   "execution_count": 3,
   "id": "8933ba2e-b5ec-450b-8136-1603fc13e336",
   "metadata": {},
   "outputs": [
    {
     "name": "stdout",
     "output_type": "stream",
     "text": [
      "relationship  Husband  Not-in-family  Other-relative  Own-child  Unmarried  \\\n",
      "label                                                                        \n",
      "<=50K            7275           7449             944       5001       3228   \n",
      ">50K             5918            856              37         67        218   \n",
      "\n",
      "relationship  Wife  \n",
      "label               \n",
      "<=50K          823  \n",
      ">50K           745  \n"
     ]
    }
   ],
   "source": [
    "import numpy as np\n",
    "import pandas as pd\n",
    "names = ['age', 'workclass', 'fnlwgt', 'education', 'educationnum', 'maritalstatus', 'occupation', 'relationship', 'race',\n",
    "        'sex', 'capitalgain', 'capitalloss', 'hoursperweek', 'nativecountry', 'label']\n",
    "train_df = pd.read_csv(\"adult/adult.data\", header=None, names=names)\n",
    "\n",
    "# Calculate the frequencies between label and relationship\n",
    "print(pd.crosstab(train_df['label'], train_df.relationship))"
   ]
  },
  {
   "cell_type": "markdown",
   "id": "06c48505-0510-48bc-b71b-74bd7702872f",
   "metadata": {},
   "source": [
    "We now have counts broken down by **relationship** and **label**. The first parameter is for the *rows*, and the second is for the *columns*. We can also normalize the results using the `normalize=True` parameter."
   ]
  },
  {
   "cell_type": "code",
   "execution_count": 4,
   "id": "9334732f-cfd4-4efc-b343-9f0926bf119c",
   "metadata": {},
   "outputs": [
    {
     "name": "stdout",
     "output_type": "stream",
     "text": [
      "relationship   Husband  Not-in-family  Other-relative  Own-child  Unmarried  \\\n",
      "label                                                                         \n",
      "<=50K         0.223427       0.228771        0.028992   0.153589   0.099137   \n",
      ">50K          0.181751       0.026289        0.001136   0.002058   0.006695   \n",
      "\n",
      "relationship      Wife  \n",
      "label                   \n",
      "<=50K         0.025276  \n",
      ">50K          0.022880  \n"
     ]
    }
   ],
   "source": [
    "import numpy as np\n",
    "import pandas as pd\n",
    "names = ['age', 'workclass', 'fnlwgt', 'education', 'educationnum', 'maritalstatus', 'occupation', 'relationship', 'race',\n",
    "        'sex', 'capitalgain', 'capitalloss', 'hoursperweek', 'nativecountry', 'label']\n",
    "train_df = pd.read_csv(\"adult/adult.data\", header=None, names=names)\n",
    "\n",
    "# Crosstab with normalized outputs\n",
    "print(pd.crosstab(train_df['label'], train_df.relationship, normalize=True))"
   ]
  },
  {
   "cell_type": "markdown",
   "id": "211336a2-0cc2-4be6-ab7e-4f0cf7bdbef3",
   "metadata": {},
   "source": [
    "# Reshape\n",
    "With Pandas, you can use `pivot()` to reshape your data. To illustrate this concept, I will use code from this [post](https://stackoverflow.com/questions/38218063/pivoting-dataframe-with-pandas) to create a dataframe in a long format."
   ]
  },
  {
   "cell_type": "code",
   "execution_count": 6,
   "id": "f7bacb3c-471c-4e24-82e9-ba0a1d2af536",
   "metadata": {},
   "outputs": [
    {
     "name": "stdout",
     "output_type": "stream",
     "text": [
      "         date variable     value\n",
      "0  2023-01-01        A  0.015784\n",
      "1  2023-01-02        A  1.605440\n",
      "2  2023-01-03        A  0.828121\n",
      "3  2023-01-01        B -0.837930\n",
      "4  2023-01-02        B -0.901090\n",
      "5  2023-01-03        B  0.015813\n",
      "6  2023-01-01        C -0.559858\n",
      "7  2023-01-02        C -0.209979\n",
      "8  2023-01-03        C  0.391523\n",
      "9  2023-01-01        D -0.421125\n",
      "10 2023-01-02        D -0.029369\n",
      "11 2023-01-03        D -0.897544\n"
     ]
    }
   ],
   "source": [
    "import numpy as np\n",
    "import pandas as pd\n",
    "\n",
    "# Create a sample time-based DataFrame similar to tm.makeTimeDataFrame()\n",
    "dates = pd.date_range(\"2023-01-01\", periods=3)\n",
    "df_sample = pd.DataFrame(np.random.randn(3, 4), index=dates, columns=list(\"ABCD\"))\n",
    "\n",
    "def unpivot(frame):\n",
    "    N, K = frame.shape\n",
    "    data = {\n",
    "        'value': frame.values.ravel('F'),\n",
    "        'variable': np.asarray(frame.columns).repeat(N),\n",
    "        'date': np.tile(np.asarray(frame.index), K)\n",
    "    }\n",
    "    return pd.DataFrame(data, columns=['date', 'variable', 'value'])\n",
    "\n",
    "df = unpivot(df_sample)\n",
    "print(df)\n"
   ]
  },
  {
   "cell_type": "markdown",
   "id": "15e7bd91-cda1-4eec-9523-0d856f8da732",
   "metadata": {},
   "source": [
    "As you can see from the output above, a long format is where you have a variable which acts like a potential column. In this example, **variable** has values A, B, and C. This is a long format. To make it a wide format, we would make columns A, B, and C and remove the variable column."
   ]
  },
  {
   "cell_type": "markdown",
   "id": "546158d6-323b-4702-bece-03cd6d76edc6",
   "metadata": {},
   "source": [
    "## Long to Wide Format"
   ]
  },
  {
   "cell_type": "code",
   "execution_count": 8,
   "id": "25ff6ec1-9a7b-4dbd-883d-af70c8932063",
   "metadata": {},
   "outputs": [
    {
     "name": "stdout",
     "output_type": "stream",
     "text": [
      "variable           A         B         C         D\n",
      "date                                              \n",
      "2023-01-01  1.764052  0.400157  0.978738  2.240893\n",
      "2023-01-02  1.867558 -0.977278  0.950088 -0.151357\n",
      "2023-01-03 -0.103219  0.410599  0.144044  1.454274\n"
     ]
    }
   ],
   "source": [
    "import numpy as np\n",
    "import pandas as pd\n",
    "\n",
    "# Simulate tm.makeTimeDataFrame() with 3 rows and 4 columns\n",
    "np.random.seed(0)\n",
    "dates = pd.date_range(\"2023-01-01\", periods=3)\n",
    "df_original = pd.DataFrame(np.random.randn(3, 4), index=dates, columns=list(\"ABCD\"))\n",
    "\n",
    "def unpivot(frame):\n",
    "    N, K = frame.shape\n",
    "    data = {\n",
    "        'value': frame.values.ravel('F'),\n",
    "        'variable': np.asarray(frame.columns).repeat(N),\n",
    "        'date': np.tile(np.asarray(frame.index), K)\n",
    "    }\n",
    "    return pd.DataFrame(data, columns=['date', 'variable', 'value'])\n",
    "\n",
    "df = unpivot(df_original)\n",
    "\n",
    "# Use pivot to reshape back to wide format\n",
    "df_pivot = df.pivot(index='date', columns='variable', values='value')\n",
    "\n",
    "print(df_pivot)"
   ]
  },
  {
   "cell_type": "markdown",
   "id": "e4355136-d09a-4e62-ac18-cab719cb00c8",
   "metadata": {},
   "source": [
    "We use the `pivot()` function. The `index` parameter is the column we want for the index of our new dataframe. The `columns` variable is for the column for which we want to use the unique values to create new columns. The `values` parameter is which column we want to use to populate the values of these new columns."
   ]
  },
  {
   "cell_type": "markdown",
   "id": "f432d326-c59f-4160-ade3-6a6529423652",
   "metadata": {},
   "source": [
    "# Wide to Long Format\n",
    "\n",
    "To convert the format form wide back to long, Pandas provide us with the functionality of unstacking via function `unstack()`. This function (in this situation) will stack our columns back into a single variable."
   ]
  },
  {
   "cell_type": "code",
   "execution_count": 10,
   "id": "1e1e7957-99d8-4dfc-a621-483ebf2cb77e",
   "metadata": {},
   "outputs": [
    {
     "name": "stdout",
     "output_type": "stream",
     "text": [
      "variable  date      \n",
      "A         2023-01-01    1.764052\n",
      "          2023-01-02    1.867558\n",
      "          2023-01-03   -0.103219\n",
      "B         2023-01-01    0.400157\n",
      "          2023-01-02   -0.977278\n",
      "          2023-01-03    0.410599\n",
      "C         2023-01-01    0.978738\n",
      "          2023-01-02    0.950088\n",
      "          2023-01-03    0.144044\n",
      "D         2023-01-01    2.240893\n",
      "          2023-01-02   -0.151357\n",
      "          2023-01-03    1.454274\n",
      "dtype: float64\n"
     ]
    }
   ],
   "source": [
    "import numpy as np\n",
    "import pandas as pd\n",
    "\n",
    "# Generate sample time-based DataFrame similar to tm.makeTimeDataFrame()\n",
    "np.random.seed(0)\n",
    "dates = pd.date_range(\"2023-01-01\", periods=3)\n",
    "df_original = pd.DataFrame(np.random.randn(3, 4), index=dates, columns=list(\"ABCD\"))\n",
    "\n",
    "# Create long dataframe\n",
    "def unpivot(frame):\n",
    "    N, K = frame.shape\n",
    "    data = {\n",
    "        'value': frame.values.ravel('F'),\n",
    "        'variable': np.asarray(frame.columns).repeat(N),\n",
    "        'date': np.tile(np.asarray(frame.index), K)\n",
    "    }\n",
    "    return pd.DataFrame(data, columns=['date', 'variable', 'value'])\n",
    "\n",
    "df = unpivot(df_original)\n",
    "\n",
    "# Convert to wide format\n",
    "df_pivot = df.pivot(index='date', columns='variable', values='value')\n",
    "\n",
    "# Convert back to long format using .unstack()\n",
    "print(df_pivot.unstack())"
   ]
  }
 ],
 "metadata": {
  "kernelspec": {
   "display_name": "Python 3 (ipykernel)",
   "language": "python",
   "name": "python3"
  },
  "language_info": {
   "codemirror_mode": {
    "name": "ipython",
    "version": 3
   },
   "file_extension": ".py",
   "mimetype": "text/x-python",
   "name": "python",
   "nbconvert_exporter": "python",
   "pygments_lexer": "ipython3",
   "version": "3.10.12"
  }
 },
 "nbformat": 4,
 "nbformat_minor": 5
}
