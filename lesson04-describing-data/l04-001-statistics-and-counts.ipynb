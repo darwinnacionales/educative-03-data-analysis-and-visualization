{
 "cells": [
  {
   "cell_type": "code",
   "execution_count": 1,
   "id": "e972de75-d2d5-46fe-b5c4-af1faaffb3f5",
   "metadata": {},
   "outputs": [
    {
     "name": "stdout",
     "output_type": "stream",
     "text": [
      "   age          workclass  fnlwgt   education  educationnum  \\\n",
      "0   39          State-gov   77516   Bachelors            13   \n",
      "1   50   Self-emp-not-inc   83311   Bachelors            13   \n",
      "2   38            Private  215646     HS-grad             9   \n",
      "3   53            Private  234721        11th             7   \n",
      "4   28            Private  338409   Bachelors            13   \n",
      "\n",
      "         maritalstatus          occupation    relationship    race      sex  \\\n",
      "0        Never-married        Adm-clerical   Not-in-family   White     Male   \n",
      "1   Married-civ-spouse     Exec-managerial         Husband   White     Male   \n",
      "2             Divorced   Handlers-cleaners   Not-in-family   White     Male   \n",
      "3   Married-civ-spouse   Handlers-cleaners         Husband   Black     Male   \n",
      "4   Married-civ-spouse      Prof-specialty            Wife   Black   Female   \n",
      "\n",
      "   capitalgain  capitalloss  hoursperweek   nativecountry   label  \n",
      "0         2174            0            40   United-States   <=50K  \n",
      "1            0            0            13   United-States   <=50K  \n",
      "2            0            0            40   United-States   <=50K  \n",
      "3            0            0            40   United-States   <=50K  \n",
      "4            0            0            40            Cuba   <=50K  \n"
     ]
    }
   ],
   "source": [
    "import pandas as pd\n",
    "\n",
    "names = ['age', 'workclass', 'fnlwgt', 'education', 'educationnum', 'maritalstatus', 'occupation', 'relationship', 'race',\n",
    "        'sex', 'capitalgain', 'capitalloss', 'hoursperweek', 'nativecountry', 'label']\n",
    "\n",
    "train_df = pd.read_csv(\"adult/adult.data\", header=None, names=names)\n",
    "\n",
    "print(train_df.head())"
   ]
  },
  {
   "cell_type": "markdown",
   "id": "6c210ae7-62e6-4ea9-b291-369dc5b3b551",
   "metadata": {},
   "source": [
    "# Gathering Statistics on Data"
   ]
  },
  {
   "cell_type": "markdown",
   "id": "bac06e53-d8d8-431f-a8bb-60d15ac2c776",
   "metadata": {},
   "source": [
    "A good place to start is just looking at your data using some pandas functions to better understand what issues there might be. `Describe` will give you counts and some statistics for continuous variables."
   ]
  },
  {
   "cell_type": "code",
   "execution_count": 2,
   "id": "881237a9-853f-4a00-b670-c92b770529ef",
   "metadata": {},
   "outputs": [
    {
     "name": "stdout",
     "output_type": "stream",
     "text": [
      "                age        fnlwgt  educationnum   capitalgain   capitalloss  \\\n",
      "count  32561.000000  3.256100e+04  32561.000000  32561.000000  32561.000000   \n",
      "mean      38.581647  1.897784e+05     10.080679   1077.648844     87.303830   \n",
      "std       13.640433  1.055500e+05      2.572720   7385.292085    402.960219   \n",
      "min       17.000000  1.228500e+04      1.000000      0.000000      0.000000   \n",
      "25%       28.000000  1.178270e+05      9.000000      0.000000      0.000000   \n",
      "50%       37.000000  1.783560e+05     10.000000      0.000000      0.000000   \n",
      "75%       48.000000  2.370510e+05     12.000000      0.000000      0.000000   \n",
      "max       90.000000  1.484705e+06     16.000000  99999.000000   4356.000000   \n",
      "\n",
      "       hoursperweek  \n",
      "count  32561.000000  \n",
      "mean      40.437456  \n",
      "std       12.347429  \n",
      "min        1.000000  \n",
      "25%       40.000000  \n",
      "50%       40.000000  \n",
      "75%       45.000000  \n",
      "max       99.000000  \n"
     ]
    }
   ],
   "source": [
    "import pandas as pd\n",
    "\n",
    "names = ['age', 'workclass', 'fnlwgt', 'education', 'educationnum', 'maritalstatus', 'occupation', 'relationship', 'race',\n",
    "        'sex', 'capitalgain', 'capitalloss', 'hoursperweek', 'nativecountry', 'label']\n",
    "\n",
    "train_df = pd.read_csv(\"adult/adult.data\", header=None, names=names)\n",
    "\n",
    "print(train_df.describe())"
   ]
  },
  {
   "cell_type": "markdown",
   "id": "c91677af-8ea5-4c56-a5c5-d22080f2e5af",
   "metadata": {},
   "source": [
    "For all of our numeric values, we now have the `mean`, the `std`, the `min`, the `max`, and a few different `percentiles`.\n",
    "\n",
    "**Note:** It is good to remember that the mean value will be influenced more by outliers than the median. Also, you can always square the standard deviation to get the variance.\n",
    "\n",
    "You may have noticed that some columns are missing. The only columns `describe()` function fetched for us are the ones that hold numeric data."
   ]
  },
  {
   "cell_type": "markdown",
   "id": "8a4725c9-9a54-42b4-a104-7d6d592541dc",
   "metadata": {},
   "source": [
    "# Finding the Data Types"
   ]
  },
  {
   "cell_type": "code",
   "execution_count": 4,
   "id": "2bbe063a-9fcf-4b24-8fd1-5a10b6e18028",
   "metadata": {},
   "outputs": [
    {
     "name": "stdout",
     "output_type": "stream",
     "text": [
      "<class 'pandas.core.frame.DataFrame'>\n",
      "RangeIndex: 32561 entries, 0 to 32560\n",
      "Data columns (total 15 columns):\n",
      " #   Column         Non-Null Count  Dtype \n",
      "---  ------         --------------  ----- \n",
      " 0   age            32561 non-null  int64 \n",
      " 1   workclass      32561 non-null  object\n",
      " 2   fnlwgt         32561 non-null  int64 \n",
      " 3   education      32561 non-null  object\n",
      " 4   educationnum   32561 non-null  int64 \n",
      " 5   maritalstatus  32561 non-null  object\n",
      " 6   occupation     32561 non-null  object\n",
      " 7   relationship   32561 non-null  object\n",
      " 8   race           32561 non-null  object\n",
      " 9   sex            32561 non-null  object\n",
      " 10  capitalgain    32561 non-null  int64 \n",
      " 11  capitalloss    32561 non-null  int64 \n",
      " 12  hoursperweek   32561 non-null  int64 \n",
      " 13  nativecountry  32561 non-null  object\n",
      " 14  label          32561 non-null  object\n",
      "dtypes: int64(6), object(9)\n",
      "memory usage: 3.7+ MB\n",
      "None\n"
     ]
    }
   ],
   "source": [
    "import pandas as pd\n",
    "\n",
    "names = ['age', 'workclass', 'fnlwgt', 'education', 'educationnum', 'maritalstatus', 'occupation', 'relationship', 'race',\n",
    "        'sex', 'capitalgain', 'capitalloss', 'hoursperweek', 'nativecountry', 'label']\n",
    "\n",
    "train_df = pd.read_csv(\"adult/adult.data\", header=None, names=names)\n",
    "\n",
    "print(train_df.info())"
   ]
  },
  {
   "cell_type": "markdown",
   "id": "8c5007ac-5fb8-4563-8001-e6a9abe4a75a",
   "metadata": {},
   "source": [
    "In our dataframe, we have two data types, `object` and `int64`. You can think of an `object` as a string value and `int64` as an integer."
   ]
  },
  {
   "cell_type": "markdown",
   "id": "8dce7d00-4561-4f4d-ae65-0d3a36e712fe",
   "metadata": {},
   "source": [
    "# Converting Data Types"
   ]
  },
  {
   "cell_type": "markdown",
   "id": "aad23f83-52df-443b-a0d5-bf0bd4c35d05",
   "metadata": {},
   "source": [
    "If a column doesn’t seem to have the correct type, it is easy to convert it to different types using `.to_()` functions:\n",
    "\n",
    "* `to_numeric()`\n",
    "* `to_datetime()`\n",
    "* `to_string()`\n",
    " \n",
    "For example:\n",
    "```\n",
    "df['numeric_column'] = pd.to_numeric(df['string_column'])\n",
    "```"
   ]
  },
  {
   "cell_type": "markdown",
   "id": "0085c375-78c1-4c59-9498-fca87ea41300",
   "metadata": {},
   "source": [
    "# Finding Unique Values"
   ]
  },
  {
   "cell_type": "markdown",
   "id": "08c8fa63-1a94-4ae3-8d4c-b21a7d98ac99",
   "metadata": {},
   "source": [
    "Another useful step is to look at unique values for columns. Here is an example for the `relationship` column:"
   ]
  },
  {
   "cell_type": "code",
   "execution_count": 5,
   "id": "a4aace01-dd65-4cbe-98a7-48648d27bb63",
   "metadata": {},
   "outputs": [
    {
     "name": "stdout",
     "output_type": "stream",
     "text": [
      "[' Not-in-family' ' Husband' ' Wife' ' Own-child' ' Unmarried'\n",
      " ' Other-relative']\n"
     ]
    }
   ],
   "source": [
    "import pandas as pd\n",
    "\n",
    "names = ['age', 'workclass', 'fnlwgt', 'education', 'educationnum', 'maritalstatus', 'occupation', 'relationship', 'race',\n",
    "        'sex', 'capitalgain', 'capitalloss', 'hoursperweek', 'nativecountry', 'label']\n",
    "\n",
    "train_df = pd.read_csv(\"adult/adult.data\", header=None, names=names)\n",
    "\n",
    "print(train_df['relationship'].unique())"
   ]
  },
  {
   "cell_type": "markdown",
   "id": "b7807993-507b-4c89-920b-bf46a4e08d04",
   "metadata": {},
   "source": [
    "Now we can see all the unique values above and can check the counts of unique values for `relationships`:"
   ]
  },
  {
   "cell_type": "code",
   "execution_count": 6,
   "id": "24a2b037-7a45-4bc8-9e61-ffdcec55edc1",
   "metadata": {},
   "outputs": [
    {
     "name": "stdout",
     "output_type": "stream",
     "text": [
      "relationship\n",
      "Husband           13193\n",
      "Not-in-family      8305\n",
      "Own-child          5068\n",
      "Unmarried          3446\n",
      "Wife               1568\n",
      "Other-relative      981\n",
      "Name: count, dtype: int64\n"
     ]
    }
   ],
   "source": [
    "import pandas as pd\n",
    "\n",
    "names = ['age', 'workclass', 'fnlwgt', 'education', 'educationnum', 'maritalstatus', 'occupation', 'relationship', 'race',\n",
    "        'sex', 'capitalgain', 'capitalloss', 'hoursperweek', 'nativecountry', 'label']\n",
    "\n",
    "train_df = pd.read_csv(\"adult/adult.data\", header=None, names=names)\n",
    "\n",
    "print(train_df['relationship'].value_counts())"
   ]
  },
  {
   "cell_type": "markdown",
   "id": "47d3f8c1-46c6-4bd6-a87c-bdf8a514c430",
   "metadata": {},
   "source": [
    "This shows us all the unique values for relationships as well as their counts. So, we have a lot of values as **husband** in the `relationship` column, but less **Other-relative**."
   ]
  },
  {
   "cell_type": "markdown",
   "id": "66e74cc8-3afe-4e2a-82bc-b0615455019d",
   "metadata": {},
   "source": [
    "# Grouping the Data\n",
    "\n",
    "We can also do these types of counts by specific groups by using the `groupby()` function. This function takes a list of columns by which you would like to group your dataframe. It then performs the requested calculations on each group individually and returns the results by group. Here is an example:"
   ]
  },
  {
   "cell_type": "code",
   "execution_count": 7,
   "id": "f78d895d-94da-46b1-b856-0aa3c7655718",
   "metadata": {},
   "outputs": [
    {
     "name": "stdout",
     "output_type": "stream",
     "text": [
      "relationship    label\n",
      "Husband         <=50K    0.551429\n",
      "                >50K     0.448571\n",
      "Not-in-family   <=50K    0.896930\n",
      "                >50K     0.103070\n",
      "Other-relative  <=50K    0.962283\n",
      "                >50K     0.037717\n",
      "Own-child       <=50K    0.986780\n",
      "                >50K     0.013220\n",
      "Unmarried       <=50K    0.936738\n",
      "                >50K     0.063262\n",
      "Wife            <=50K    0.524872\n",
      "                >50K     0.475128\n",
      "Name: proportion, dtype: float64\n"
     ]
    }
   ],
   "source": [
    "import pandas as pd\n",
    "\n",
    "names = ['age', 'workclass', 'fnlwgt', 'education', 'educationnum', 'maritalstatus', 'occupation', 'relationship', 'race',\n",
    "        'sex', 'capitalgain', 'capitalloss', 'hoursperweek', 'nativecountry', 'label']\n",
    "\n",
    "train_df = pd.read_csv(\"adult/adult.data\", header=None, names=names)\n",
    "\n",
    "print(train_df.groupby('relationship')['label'].value_counts(normalize=True))"
   ]
  },
  {
   "cell_type": "markdown",
   "id": "4c3d9b8b-1f9b-40a5-b00b-ed9276d722b0",
   "metadata": {},
   "source": [
    "What we did above was group by the variable, `relationship`, and then perform value counts on the variable `label`. For these data, label is whether you make more than **50k**. We can see above that **55%** of husbands make more than **50k**. We received percentages because we used the `normalize=True` parameter.\n",
    "\n",
    "You can do many types of calculations on groups using Pandas. For example, here we can see the mean hours worked per week by `workclass`."
   ]
  },
  {
   "cell_type": "code",
   "execution_count": 8,
   "id": "ce526c72-b5ea-44f0-a95c-70347b8e339c",
   "metadata": {},
   "outputs": [
    {
     "name": "stdout",
     "output_type": "stream",
     "text": [
      "workclass\n",
      "?                   31.919390\n",
      "Federal-gov         41.379167\n",
      "Local-gov           40.982800\n",
      "Never-worked        28.428571\n",
      "Private             40.267096\n",
      "Self-emp-inc        48.818100\n",
      "Self-emp-not-inc    44.421881\n",
      "State-gov           39.031587\n",
      "Without-pay         32.714286\n",
      "Name: hoursperweek, dtype: float64\n"
     ]
    }
   ],
   "source": [
    "import pandas as pd\n",
    "\n",
    "names = ['age', 'workclass', 'fnlwgt', 'education', 'educationnum', 'maritalstatus', 'occupation', 'relationship', 'race',\n",
    "        'sex', 'capitalgain', 'capitalloss', 'hoursperweek', 'nativecountry', 'label']\n",
    "\n",
    "train_df = pd.read_csv(\"adult/adult.data\", header=None, names=names)\n",
    "\n",
    "print(train_df.groupby('workclass')['hoursperweek'].mean())"
   ]
  },
  {
   "cell_type": "markdown",
   "id": "2822a738-44f5-4fcc-b678-bf10bb6d8037",
   "metadata": {},
   "source": [
    "From the above, it looks like Federal government workers work more than local workers on average. **Never-worked** average about 28 hours."
   ]
  },
  {
   "cell_type": "markdown",
   "id": "01796cf8-7105-41f8-aac6-ac55ee8e57fb",
   "metadata": {},
   "source": [
    "# Finding the Correlation"
   ]
  },
  {
   "cell_type": "markdown",
   "id": "f6248bb1-22cc-4511-bc7b-364de260c667",
   "metadata": {},
   "source": [
    "Another useful statistic is the correlation. If you need a refresher on correlation, please check out [Wikipedia](https://en.wikipedia.org/wiki/Correlation_coefficient). You can calculate all the pair-wise correlations in your dataframe by using the `corr` function."
   ]
  },
  {
   "cell_type": "code",
   "execution_count": 11,
   "id": "78f873eb-a1b9-4d6f-bff8-9ccc96d60e45",
   "metadata": {},
   "outputs": [
    {
     "name": "stdout",
     "output_type": "stream",
     "text": [
      "                   age    fnlwgt  educationnum  capitalgain  capitalloss  \\\n",
      "age           1.000000 -0.076646      0.036527     0.077674     0.057775   \n",
      "fnlwgt       -0.076646  1.000000     -0.043195     0.000432    -0.010252   \n",
      "educationnum  0.036527 -0.043195      1.000000     0.122630     0.079923   \n",
      "capitalgain   0.077674  0.000432      0.122630     1.000000    -0.031615   \n",
      "capitalloss   0.057775 -0.010252      0.079923    -0.031615     1.000000   \n",
      "hoursperweek  0.068756 -0.018768      0.148123     0.078409     0.054256   \n",
      "\n",
      "              hoursperweek  \n",
      "age               0.068756  \n",
      "fnlwgt           -0.018768  \n",
      "educationnum      0.148123  \n",
      "capitalgain       0.078409  \n",
      "capitalloss       0.054256  \n",
      "hoursperweek      1.000000  \n"
     ]
    }
   ],
   "source": [
    "import pandas as pd\n",
    "names = ['age', 'workclass', 'fnlwgt', 'education', 'educationnum', 'maritalstatus', 'occupation', 'relationship', 'race',\n",
    "        'sex', 'capitalgain', 'capitalloss', 'hoursperweek', 'nativecountry', 'label']\n",
    "train_df = pd.read_csv(\"adult/adult.data\", header=None, names=names)\n",
    "\n",
    "# Calculate correlations                   \n",
    "print(train_df.corr(numeric_only=True))"
   ]
  },
  {
   "cell_type": "markdown",
   "id": "df407c8b-ad6a-422d-b79f-7032732d8f6b",
   "metadata": {},
   "source": [
    "We can quickly see that compared to all of the correlations, there is a higher correlation between “hours per week” and “education num”, but it is not very high. You will notice, though since our label is an object, it isn’t included here. Knowing how variables correlate with our label would be useful, so let’s take care of that:"
   ]
  },
  {
   "cell_type": "code",
   "execution_count": 13,
   "id": "a22ae055-ea20-4caf-aba4-12d48156841b",
   "metadata": {},
   "outputs": [
    {
     "name": "stdout",
     "output_type": "stream",
     "text": [
      "                   age    fnlwgt  educationnum  capitalgain  capitalloss  \\\n",
      "age           1.000000 -0.076646      0.036527     0.077674     0.057775   \n",
      "fnlwgt       -0.076646  1.000000     -0.043195     0.000432    -0.010252   \n",
      "educationnum  0.036527 -0.043195      1.000000     0.122630     0.079923   \n",
      "capitalgain   0.077674  0.000432      0.122630     1.000000    -0.031615   \n",
      "capitalloss   0.057775 -0.010252      0.079923    -0.031615     1.000000   \n",
      "hoursperweek  0.068756 -0.018768      0.148123     0.078409     0.054256   \n",
      "label_int     0.234037 -0.009463      0.335154     0.223329     0.150526   \n",
      "\n",
      "              hoursperweek  label_int  \n",
      "age               0.068756   0.234037  \n",
      "fnlwgt           -0.018768  -0.009463  \n",
      "educationnum      0.148123   0.335154  \n",
      "capitalgain       0.078409   0.223329  \n",
      "capitalloss       0.054256   0.150526  \n",
      "hoursperweek      1.000000   0.229689  \n",
      "label_int         0.229689   1.000000  \n"
     ]
    }
   ],
   "source": [
    "import pandas as pd\n",
    "names = ['age', 'workclass', 'fnlwgt', 'education', 'educationnum', 'maritalstatus', 'occupation', 'relationship', 'race',\n",
    "        'sex', 'capitalgain', 'capitalloss', 'hoursperweek', 'nativecountry', 'label']\n",
    "train_df = pd.read_csv(\"adult/adult.data\", header=None, names=names)\n",
    "\n",
    "# Convert the string label into a value of 1 when >= 50k and 0 otherwise\n",
    "train_df['label_int'] = train_df.label.apply(lambda x: \">\" in x)\n",
    "\n",
    "# Calculate correlations                   \n",
    "print(train_df.corr(numeric_only=True))"
   ]
  },
  {
   "cell_type": "markdown",
   "id": "225dc6cc-cb50-4ae8-97d0-7b74521ccab4",
   "metadata": {},
   "source": [
    "There seems to be some decent correlation with the label and education num. One thing to note, though, is that our label is categorical, so correlation doesn’t really apply, our groupby frequencies are probably a better method.\n",
    "\n",
    "**Note:** Categorical variables are variables with categories with no intrinsic order. For example, gender.\n",
    "\n",
    "Also, keep in mind, these are just univariate correlations (between one variable) and don’t account for multi-variate effects (between multiple variables). You can also calculate the correlation using the `scipy` package which has the added benefit of p-values. This was discussed in the “Scipy an External Library” lesson."
   ]
  },
  {
   "cell_type": "markdown",
   "id": "3967453c-9c07-44db-9c33-03c6d4360d76",
   "metadata": {},
   "source": [
    "# Generating Percentiles"
   ]
  },
  {
   "cell_type": "markdown",
   "id": "25c5ddd5-7bd6-460c-a80e-4a493866879a",
   "metadata": {},
   "source": [
    "Lastly, the describe function of Pandas gives some percentiles, but it is easy to add more:"
   ]
  },
  {
   "cell_type": "code",
   "execution_count": 15,
   "id": "9e2072d3-3b14-4184-baad-6b073ae12bdb",
   "metadata": {},
   "outputs": [
    {
     "name": "stdout",
     "output_type": "stream",
     "text": [
      "                age        fnlwgt  educationnum   capitalgain   capitalloss  \\\n",
      "count  32561.000000  3.256100e+04  32561.000000  32561.000000  32561.000000   \n",
      "mean      38.581647  1.897784e+05     10.080679   1077.648844     87.303830   \n",
      "std       13.640433  1.055500e+05      2.572720   7385.292085    402.960219   \n",
      "min       17.000000  1.228500e+04      1.000000      0.000000      0.000000   \n",
      "1%        17.000000  2.718580e+04      3.000000      0.000000      0.000000   \n",
      "5%        19.000000  3.946000e+04      5.000000      0.000000      0.000000   \n",
      "50%       37.000000  1.783560e+05     10.000000      0.000000      0.000000   \n",
      "95%       63.000000  3.796820e+05     14.000000   5013.000000      0.000000   \n",
      "99%       74.000000  5.100720e+05     16.000000  15024.000000   1980.000000   \n",
      "max       90.000000  1.484705e+06     16.000000  99999.000000   4356.000000   \n",
      "\n",
      "       hoursperweek  \n",
      "count  32561.000000  \n",
      "mean      40.437456  \n",
      "std       12.347429  \n",
      "min        1.000000  \n",
      "1%         8.000000  \n",
      "5%        18.000000  \n",
      "50%       40.000000  \n",
      "95%       60.000000  \n",
      "99%       80.000000  \n",
      "max       99.000000  \n"
     ]
    }
   ],
   "source": [
    "import pandas as pd\n",
    "names = ['age', 'workclass', 'fnlwgt', 'education', 'educationnum', 'maritalstatus', 'occupation', 'relationship', 'race',\n",
    "        'sex', 'capitalgain', 'capitalloss', 'hoursperweek', 'nativecountry', 'label']\n",
    "train_df = pd.read_csv(\"adult/adult.data\", header=None, names=names)\n",
    "\n",
    "# Use the describe function to calculate the percentiles specified                     \n",
    "print(train_df.describe(percentiles=[.01,.05,.95,.99]))"
   ]
  },
  {
   "cell_type": "markdown",
   "id": "d9cc4070-9881-4913-92de-57cdb86c3131",
   "metadata": {},
   "source": [
    "A percentile is the value below which a given percent of the data falls.\n",
    "\n",
    "We pass the percentile values we want using the percentiles parameter shown above."
   ]
  },
  {
   "cell_type": "code",
   "execution_count": null,
   "id": "ee20bac5-17dc-4d6e-9991-e4569e22a879",
   "metadata": {},
   "outputs": [],
   "source": []
  }
 ],
 "metadata": {
  "kernelspec": {
   "display_name": "Python 3 (ipykernel)",
   "language": "python",
   "name": "python3"
  },
  "language_info": {
   "codemirror_mode": {
    "name": "ipython",
    "version": 3
   },
   "file_extension": ".py",
   "mimetype": "text/x-python",
   "name": "python",
   "nbconvert_exporter": "python",
   "pygments_lexer": "ipython3",
   "version": "3.10.12"
  }
 },
 "nbformat": 4,
 "nbformat_minor": 5
}
