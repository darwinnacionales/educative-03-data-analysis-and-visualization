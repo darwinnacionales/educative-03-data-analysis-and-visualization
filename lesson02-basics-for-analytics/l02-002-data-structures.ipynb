{
 "cells": [
  {
   "cell_type": "markdown",
   "id": "56820dda-68c4-4b6a-99cd-6a345319e088",
   "metadata": {},
   "source": [
    "# Lists in Python"
   ]
  },
  {
   "cell_type": "code",
   "execution_count": 4,
   "id": "1d87a681-0370-49fe-a7a7-cf9751743333",
   "metadata": {},
   "outputs": [
    {
     "name": "stdout",
     "output_type": "stream",
     "text": [
      "[1, 2, 3, 4, 5, 6, 7, 8, 9, 10]\n",
      "[1, 2, 3, 4, 5]\n"
     ]
    }
   ],
   "source": [
    "# p1 = [1, 2, 3, 4, 5, 6, 7, 8, 9, 10]\n",
    "p1 = [x + 1 for x in range(10)]\n",
    "p2 = p1[0:5]\n",
    "\n",
    "print(p1)\n",
    "print(p2)"
   ]
  },
  {
   "cell_type": "code",
   "execution_count": 17,
   "id": "22e4137b-837f-46e8-b4e3-0e0f4ed8bd12",
   "metadata": {},
   "outputs": [
    {
     "name": "stdout",
     "output_type": "stream",
     "text": [
      "---Sample 0---\n",
      "[1, 5, 3, 6, 4]\n",
      "---Sample 1---\n",
      "48\n",
      "---Sample 2---\n",
      "12\n",
      "---Sample 3---\n",
      "12\n",
      "---Sample 4---\n",
      "[10, 12]\n",
      "---Sample 5---\n",
      "[3, 6, 4]\n",
      "---Sample 6---\n",
      "False\n",
      "True\n",
      "---Sample 7---\n",
      "[1, 5, 3, 6, 4, 7, 10, 12, 44]\n",
      "---Sample 8---\n",
      "[1, 5, 3, 6, 4, 7, 10, 12, 44, 100, 200]\n",
      "---Sample 9---\n",
      "[1, 5, 3, 6, 100, 7, 10, 12, 44, 100, 200]\n",
      "---Sample 10---\n",
      "[1, 5, 3, 6, 100, 1000, 7, 10, 12, 44, 100, 200]\n"
     ]
    }
   ],
   "source": [
    "depths = [1, 5, 3, 6, 4, 7, 10, 12]\n",
    "\n",
    "first_5_depths = depths[:5]\n",
    "\n",
    "sample_count = 0\n",
    "print(\"---Sample {}---\".format(sample_count))\n",
    "print(first_5_depths)\n",
    "\n",
    "sample_count = 1\n",
    "print(\"---Sample {}---\".format(sample_count))\n",
    "print(sum(depths))\n",
    "\n",
    "sample_count = 2\n",
    "print(\"---Sample {}---\".format(sample_count))\n",
    "print(max(depths))\n",
    "\n",
    "sample_count = 3\n",
    "print(\"---Sample {}---\".format(sample_count))\n",
    "print(depths[-1])\n",
    "\n",
    "sample_count = 4\n",
    "print(\"---Sample {}---\".format(sample_count))\n",
    "print(depths[-2:])\n",
    "\n",
    "sample_count = 5\n",
    "print(\"---Sample {}---\".format(sample_count))\n",
    "print(depths[2:5])\n",
    "\n",
    "sample_count = 6\n",
    "print(\"---Sample {}---\".format(sample_count))\n",
    "print(22 in depths)\n",
    "print(1 in depths)\n",
    "\n",
    "sample_count = 7\n",
    "print(\"---Sample {}---\".format(sample_count))\n",
    "depths.append(44)\n",
    "print(depths)\n",
    "\n",
    "sample_count = 8\n",
    "print(\"---Sample {}---\".format(sample_count))\n",
    "depths.extend([100, 200])\n",
    "print(depths)\n",
    "\n",
    "sample_count = 9\n",
    "print(\"---Sample {}---\".format(sample_count))\n",
    "depths[4] = 100\n",
    "print(depths)\n",
    "\n",
    "sample_count = 10\n",
    "print(\"---Sample {}---\".format(sample_count))\n",
    "depths.insert(5, 1000)\n",
    "print(depths)"
   ]
  },
  {
   "cell_type": "markdown",
   "id": "cf3fb0a6-6066-43be-a785-9e200165a332",
   "metadata": {},
   "source": [
    "# Dictionaries in Python"
   ]
  },
  {
   "cell_type": "code",
   "execution_count": 26,
   "id": "d3b8385b-25d1-4eec-ba5d-1dd4abea55db",
   "metadata": {},
   "outputs": [
    {
     "name": "stdout",
     "output_type": "stream",
     "text": [
      "---0---\n",
      "22\n",
      "---1---\n",
      "True\n",
      "---2---\n",
      "False\n",
      "---3---\n",
      "22\n",
      "---4---\n",
      "1\n",
      "---5---\n",
      "dict_keys(['age', 'birth_year', 'name', 'siblings'])\n",
      "---6---\n",
      "dict_values([22, 1999, 'jack', ['jill', 'jen']])\n",
      "---7---\n",
      "dict_items([('age', 22), ('birth_year', 1999), ('name', 'jack'), ('siblings', ['jill', 'jen'])])\n"
     ]
    }
   ],
   "source": [
    "# Initialize the dictionary.\n",
    "# Keys are first then a : then the value\n",
    "my_dict = {\"age\": 22, \"birth_year\": 1999, \"name\": \"jack\", \"siblings\": [\"jill\", \"jen\"]}\n",
    "\n",
    "# Get the value for the key age\n",
    "print(\"---0---\")\n",
    "print(my_dict['age'])\n",
    "\n",
    "\n",
    "# Check is age is a key\n",
    "print(\"---1---\")\n",
    "print('age' in my_dict)\n",
    "\n",
    "# Check is company is a key\n",
    "print(\"---2---\")\n",
    "print('company' in my_dict)\n",
    "\n",
    "# Get the value for they key age\n",
    "print(\"---3---\")\n",
    "print(my_dict.get('age'))\n",
    "\n",
    "# Get the value for they key company\n",
    "# If it doesn't exsist, return 1\n",
    "print(\"---4---\")\n",
    "print(my_dict.get('company', 1))\n",
    "\n",
    "# Return all the keys\n",
    "print(\"---5---\")\n",
    "print(my_dict.keys())\n",
    "\n",
    "# Return all the values\n",
    "print(\"---6---\")\n",
    "print(my_dict.values())\n",
    "\n",
    "# Return all the key, value pairs\n",
    "print(\"---7---\")\n",
    "print(my_dict.items())"
   ]
  },
  {
   "cell_type": "markdown",
   "id": "f670ab13-6632-4eac-b6f7-54f489c9c41c",
   "metadata": {},
   "source": [
    "## `defaultdict`"
   ]
  },
  {
   "cell_type": "code",
   "execution_count": 28,
   "id": "b5a98902-ae48-46a4-8127-aa9578223c1e",
   "metadata": {},
   "outputs": [
    {
     "name": "stdout",
     "output_type": "stream",
     "text": [
      "22\n",
      "0\n"
     ]
    }
   ],
   "source": [
    "from collections import defaultdict\n",
    "my_default_dict = defaultdict(int)\n",
    "my_default_dict['age'] = 22\n",
    "print(my_default_dict['age'])\n",
    "print(my_default_dict['company'])"
   ]
  },
  {
   "cell_type": "markdown",
   "id": "56e721dc-194b-4123-8c9f-4f761ecb4485",
   "metadata": {},
   "source": [
    "# Sets in Python"
   ]
  },
  {
   "cell_type": "code",
   "execution_count": 33,
   "id": "d4def1be-cf30-4b4d-ba70-36983ad629b8",
   "metadata": {},
   "outputs": [
    {
     "name": "stdout",
     "output_type": "stream",
     "text": [
      "---0---\n",
      "{1, 2}\n",
      "---1---\n",
      "{1, 2, 3, 4}\n",
      "---1---\n",
      "{1, 2}\n",
      "---2---\n",
      "{1, 2, 3, 4}\n",
      "---3---\n",
      "set()\n"
     ]
    }
   ],
   "source": [
    "my_set = set()\n",
    "my_set.add(1)\n",
    "my_set.add(2)\n",
    "my_set.add(1)\n",
    "\n",
    "print(\"---0---\")\n",
    "print(my_set)\n",
    "\n",
    "my_set2 = set()\n",
    "my_set2.add(1)\n",
    "my_set2.add(2)\n",
    "my_set2.add(3)\n",
    "my_set2.add(4)\n",
    "print(\"---1---\")\n",
    "print(my_set2)\n",
    "\n",
    "# Prints the overlap\n",
    "print(\"---1---\")\n",
    "print(my_set.intersection(my_set2))\n",
    "print(\"---2---\")\n",
    "\n",
    "# Prints the combination\n",
    "print(my_set.union(my_set2))\n",
    "\n",
    "# Prints the difference (those in my_set but not my_set2)\n",
    "print(\"---3---\")\n",
    "print(my_set.difference(my_set2))"
   ]
  }
 ],
 "metadata": {
  "kernelspec": {
   "display_name": "Python 3 (ipykernel)",
   "language": "python",
   "name": "python3"
  },
  "language_info": {
   "codemirror_mode": {
    "name": "ipython",
    "version": 3
   },
   "file_extension": ".py",
   "mimetype": "text/x-python",
   "name": "python",
   "nbconvert_exporter": "python",
   "pygments_lexer": "ipython3",
   "version": "3.10.12"
  }
 },
 "nbformat": 4,
 "nbformat_minor": 5
}
