{
 "cells": [
  {
   "cell_type": "code",
   "execution_count": 3,
   "id": "fff6cc85-793e-4764-a5f0-0811dd2a305d",
   "metadata": {},
   "outputs": [
    {
     "name": "stdout",
     "output_type": "stream",
     "text": [
      "7.69459862670642e-24\n",
      "0.03989422804014327\n"
     ]
    }
   ],
   "source": [
    "from scipy import stats\n",
    "\n",
    "p1 = stats.norm.pdf(x=-100, loc=0, scale=10)\n",
    "p2 = stats.norm.pdf(x=0, loc=0, scale=10)\n",
    "\n",
    "print(p1)\n",
    "print(p2)"
   ]
  }
 ],
 "metadata": {
  "kernelspec": {
   "display_name": "Python 3 (ipykernel)",
   "language": "python",
   "name": "python3"
  },
  "language_info": {
   "codemirror_mode": {
    "name": "ipython",
    "version": 3
   },
   "file_extension": ".py",
   "mimetype": "text/x-python",
   "name": "python",
   "nbconvert_exporter": "python",
   "pygments_lexer": "ipython3",
   "version": "3.10.12"
  }
 },
 "nbformat": 4,
 "nbformat_minor": 5
}
