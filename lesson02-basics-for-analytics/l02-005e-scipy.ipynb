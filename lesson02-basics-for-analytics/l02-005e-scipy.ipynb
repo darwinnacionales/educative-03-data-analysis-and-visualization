{
 "cells": [
  {
   "cell_type": "code",
   "execution_count": 1,
   "id": "fff6cc85-793e-4764-a5f0-0811dd2a305d",
   "metadata": {},
   "outputs": [
    {
     "name": "stdout",
     "output_type": "stream",
     "text": [
      "DescribeResult(nobs=500, minmax=(np.float64(-3.252962817002945), np.float64(3.7838389582619594)), mean=np.float64(0.00445024113392741), variance=np.float64(1.128561438302916), skewness=np.float64(0.041439990287835016), kurtosis=np.float64(0.08802924416555413))\n"
     ]
    }
   ],
   "source": [
    "from scipy import stats\n",
    "\n",
    "print(stats.describe(stats.norm.rvs(loc=0, scale=1, size=500)))"
   ]
  },
  {
   "cell_type": "code",
   "execution_count": null,
   "id": "d0023939-10dc-4228-a1f4-ca0b1144abd3",
   "metadata": {},
   "outputs": [],
   "source": []
  }
 ],
 "metadata": {
  "kernelspec": {
   "display_name": "Python 3 (ipykernel)",
   "language": "python",
   "name": "python3"
  },
  "language_info": {
   "codemirror_mode": {
    "name": "ipython",
    "version": 3
   },
   "file_extension": ".py",
   "mimetype": "text/x-python",
   "name": "python",
   "nbconvert_exporter": "python",
   "pygments_lexer": "ipython3",
   "version": "3.10.12"
  }
 },
 "nbformat": 4,
 "nbformat_minor": 5
}
