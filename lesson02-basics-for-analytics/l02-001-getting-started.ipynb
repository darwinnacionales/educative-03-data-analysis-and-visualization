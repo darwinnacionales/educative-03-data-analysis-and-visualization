{
 "cells": [
  {
   "cell_type": "markdown",
   "id": "35837400-9ff1-4e24-9bd0-0af00bcbb42a",
   "metadata": {},
   "source": [
    "# Native Python for Science"
   ]
  },
  {
   "cell_type": "code",
   "execution_count": 1,
   "id": "7d242c2c-a088-48c5-8501-e2329701cd39",
   "metadata": {},
   "outputs": [
    {
     "name": "stdout",
     "output_type": "stream",
     "text": [
      "15\n"
     ]
    }
   ],
   "source": [
    "x = 5\n",
    "y = 10\n",
    "print(x + y)"
   ]
  },
  {
   "cell_type": "markdown",
   "id": "cedae2c1-5ec9-4c94-8a20-75591d3d3a9e",
   "metadata": {},
   "source": [
    "## Importing Functionalities"
   ]
  },
  {
   "cell_type": "code",
   "execution_count": 2,
   "id": "8f6cceaa-5990-409a-8653-41b88bae62aa",
   "metadata": {},
   "outputs": [],
   "source": [
    "from collections import Counter"
   ]
  },
  {
   "cell_type": "markdown",
   "id": "eb2f718b-c484-4efc-98d7-ec08e08832fc",
   "metadata": {},
   "source": [
    "## Lists in Python"
   ]
  },
  {
   "cell_type": "code",
   "execution_count": 3,
   "id": "e9d86f17-922f-4aea-aa93-2173d92bcff0",
   "metadata": {},
   "outputs": [
    {
     "name": "stdout",
     "output_type": "stream",
     "text": [
      "[(22, 2), (25, 2), (24, 2), (30, 1), (26, 1), (35, 1)]\n"
     ]
    }
   ],
   "source": [
    "from collections import Counter\n",
    "marriage_ages = [22, 22, 25, 25, 30, 24, 26, 24, 35]\n",
    "value_counts = Counter(marriage_ages)\n",
    "print(value_counts.most_common())"
   ]
  },
  {
   "cell_type": "markdown",
   "id": "4612e38a-a788-44f4-9388-d059748da64e",
   "metadata": {},
   "source": [
    "## Functions in Python"
   ]
  },
  {
   "cell_type": "code",
   "execution_count": 4,
   "id": "c2e36217-92fa-4545-bdaf-a1d6d8ba7b50",
   "metadata": {},
   "outputs": [
    {
     "name": "stdout",
     "output_type": "stream",
     "text": [
      "105\n"
     ]
    }
   ],
   "source": [
    "def add_two_numbers(x, y):\n",
    "    \"\"\"\n",
    "    Takes in two numbers and returns the sum\n",
    "    parameters\n",
    "        x : str\n",
    "            first number\n",
    "        y : str\n",
    "            second number\n",
    "    returns\n",
    "        x+y\n",
    "    \"\"\"\n",
    "    z = x + y\n",
    "    return z  # function return\n",
    "print(add_two_numbers(100,5))  # function  call"
   ]
  },
  {
   "cell_type": "code",
   "execution_count": 5,
   "id": "2dd83999-848b-4fd6-9236-2a54bb3fa114",
   "metadata": {},
   "outputs": [
    {
     "name": "stdout",
     "output_type": "stream",
     "text": [
      "105\n"
     ]
    }
   ],
   "source": [
    "y = lambda x, y: x + y\n",
    "print(y(100, 5))"
   ]
  }
 ],
 "metadata": {
  "kernelspec": {
   "display_name": "Python 3 (ipykernel)",
   "language": "python",
   "name": "python3"
  },
  "language_info": {
   "codemirror_mode": {
    "name": "ipython",
    "version": 3
   },
   "file_extension": ".py",
   "mimetype": "text/x-python",
   "name": "python",
   "nbconvert_exporter": "python",
   "pygments_lexer": "ipython3",
   "version": "3.10.12"
  }
 },
 "nbformat": 4,
 "nbformat_minor": 5
}
