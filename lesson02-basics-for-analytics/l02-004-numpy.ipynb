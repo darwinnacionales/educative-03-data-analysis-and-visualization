{
 "cells": [
  {
   "cell_type": "markdown",
   "id": "f70379a6-c991-4372-b3b0-a30cbfe28d29",
   "metadata": {},
   "source": [
    "# Handling Arrays with NumPy"
   ]
  },
  {
   "cell_type": "markdown",
   "id": "d6a980a2-134e-4f05-8c69-61e74d4f50ba",
   "metadata": {},
   "source": [
    "## Single Dimensional Arrays"
   ]
  },
  {
   "cell_type": "code",
   "execution_count": 7,
   "id": "0f166b4b-09c8-4e1a-9dab-886d782aeb73",
   "metadata": {},
   "outputs": [
    {
     "name": "stdout",
     "output_type": "stream",
     "text": [
      "--0--\n",
      "[ 5 10 15 25 30]\n",
      "--1--\n",
      "9.273618495495704\n",
      "--2--\n",
      "30\n",
      "--3--\n",
      "[ 25 100 225 625 900]\n",
      "--4--\n",
      "[10 20 30 50 60]\n",
      "--5--\n",
      "1875\n",
      "--6--\n",
      "(5,)\n"
     ]
    }
   ],
   "source": [
    "import numpy as np\n",
    "\n",
    "np_array = np.array([5, 10, 15, 25, 30])\n",
    "\n",
    "print(\"--0--\")\n",
    "print(np.unique(np_array))\n",
    "\n",
    "print(\"--1--\")\n",
    "print(np.std(np_array))\n",
    "\n",
    "print(\"--2--\")\n",
    "print(np_array.max())\n",
    "\n",
    "print(\"--3--\")\n",
    "print(np_array ** 2)\n",
    "\n",
    "print(\"--4--\")\n",
    "print(np_array + np_array)\n",
    "\n",
    "print(\"--5--\")\n",
    "print(np.sum(np_array ** 2))\n",
    "\n",
    "print(\"--6--\")\n",
    "print(np_array.shape)"
   ]
  },
  {
   "cell_type": "markdown",
   "id": "df021d3f-4284-48d5-ae6b-59014b09b981",
   "metadata": {},
   "source": [
    "## Two Dimensional Arrays"
   ]
  },
  {
   "cell_type": "code",
   "execution_count": 11,
   "id": "f84ae925-9138-4c7c-9a4b-744d10ccde38",
   "metadata": {},
   "outputs": [
    {
     "name": "stdout",
     "output_type": "stream",
     "text": [
      "--0--\n",
      "[[1 2 3]\n",
      " [4 5 6]]\n",
      "--1--\n",
      "[[1 4]\n",
      " [2 5]\n",
      " [3 6]]\n",
      "--2--\n",
      "(2, 3)\n",
      "--3--\n",
      "5\n",
      "3\n"
     ]
    }
   ],
   "source": [
    "import numpy as np\n",
    "\n",
    "print(\"--0--\")\n",
    "np_2d_array = np.array(\n",
    "    [\n",
    "        [1, 2, 3],\n",
    "        [4, 5, 6]\n",
    "    ]\n",
    ")\n",
    "print(np_2d_array)\n",
    "\n",
    "print(\"--1--\")\n",
    "np_2d_array_T = np_2d_array.T\n",
    "print(np_2d_array_T)\n",
    "\n",
    "print(\"--2--\")\n",
    "print(np_2d_array.shape)\n",
    "\n",
    "print(\"--3--\")\n",
    "print(np_2d_array[1,1])\n",
    "print(np_2d_array[0,2])"
   ]
  },
  {
   "cell_type": "markdown",
   "id": "184acf72-8b4c-400b-a67f-1c0f6d249a2b",
   "metadata": {},
   "source": [
    "# Important Functionalities"
   ]
  },
  {
   "cell_type": "markdown",
   "id": "8e3f3c51-0a80-4d6c-9dba-56e1071333a0",
   "metadata": {},
   "source": [
    "## Calculating Dot Product"
   ]
  },
  {
   "cell_type": "code",
   "execution_count": 12,
   "id": "49554df8-775b-4d7a-a595-bb211ecb69b5",
   "metadata": {},
   "outputs": [
    {
     "name": "stdout",
     "output_type": "stream",
     "text": [
      "2275\n"
     ]
    }
   ],
   "source": [
    "import numpy as np\n",
    "\n",
    "np_array = np.array([5, 10, 15, 20, 25, 30])\n",
    "dot_product = np.dot(np_array, np_array)\n",
    "print(dot_product)"
   ]
  },
  {
   "cell_type": "markdown",
   "id": "32b54a9c-04d4-4804-8e1b-7607c9747df6",
   "metadata": {},
   "source": [
    "## Generating Random Values"
   ]
  },
  {
   "cell_type": "code",
   "execution_count": 13,
   "id": "b6305fb0-9176-438a-a8af-41a2cbc2392c",
   "metadata": {},
   "outputs": [
    {
     "name": "stdout",
     "output_type": "stream",
     "text": [
      "--0--\n",
      "0.67094064707494\n",
      "--1--\n",
      "[[0.15021107 0.42001976]\n",
      " [0.10911861 0.20459247]\n",
      " [0.31925601 0.73801048]]\n"
     ]
    }
   ],
   "source": [
    "import numpy as np\n",
    "\n",
    "print(\"--0--\")\n",
    "print(np.random.rand())\n",
    "\n",
    "print(\"--1--\")\n",
    "print(np.random.rand(3, 2))"
   ]
  },
  {
   "cell_type": "code",
   "execution_count": 17,
   "id": "970239d6-fd39-4f9f-a7b1-aad26c6caa9b",
   "metadata": {},
   "outputs": [
    {
     "name": "stdout",
     "output_type": "stream",
     "text": [
      "--0--\n",
      "[ 5 14]\n",
      "--1--\n",
      "[[ 7  6]\n",
      " [10 11]\n",
      " [ 5 10]]\n"
     ]
    }
   ],
   "source": [
    "import numpy as np\n",
    "\n",
    "print(\"--0--\")\n",
    "print(np.random.randint(5, 15, 2))\n",
    "\n",
    "print(\"--1--\")\n",
    "print(np.random.randint(5, 15, (3, 2)))"
   ]
  },
  {
   "cell_type": "markdown",
   "id": "a897e12a-3d58-4cde-9897-6ea3b2f450cf",
   "metadata": {},
   "source": [
    "## Sampling the Data"
   ]
  },
  {
   "cell_type": "code",
   "execution_count": 19,
   "id": "7d5673dc-eeb5-4848-8f66-0f92a9673c30",
   "metadata": {},
   "outputs": [
    {
     "name": "stdout",
     "output_type": "stream",
     "text": [
      "--0--\n",
      "[2 5 3 1 1 4 3 4 2 3]\n",
      "--1--\n",
      "[5 2 3]\n"
     ]
    }
   ],
   "source": [
    "import numpy as np\n",
    "array = np.array([1, 2, 3, 4, 5])\n",
    "\n",
    "print(\"--0--\")\n",
    "print(np.random.choice(array, 10, replace=True))\n",
    "\n",
    "print(\"--1--\")\n",
    "print(np.random.choice(array, 3, replace=False))"
   ]
  },
  {
   "cell_type": "markdown",
   "id": "36b9f472-8bb9-4c90-96dd-6eddd911d577",
   "metadata": {},
   "source": [
    "## Randomly Shuffling Values"
   ]
  },
  {
   "cell_type": "code",
   "execution_count": 21,
   "id": "6ceeea75-5583-4361-93a0-4f8639b7600b",
   "metadata": {},
   "outputs": [
    {
     "name": "stdout",
     "output_type": "stream",
     "text": [
      "[5, 1, 2, 4, 3]\n"
     ]
    }
   ],
   "source": [
    "import numpy as np\n",
    "\n",
    "x = [1, 2, 3, 4, 5]\n",
    "np.random.shuffle(x)\n",
    "\n",
    "print(x)"
   ]
  }
 ],
 "metadata": {
  "kernelspec": {
   "display_name": "Python 3 (ipykernel)",
   "language": "python",
   "name": "python3"
  },
  "language_info": {
   "codemirror_mode": {
    "name": "ipython",
    "version": 3
   },
   "file_extension": ".py",
   "mimetype": "text/x-python",
   "name": "python",
   "nbconvert_exporter": "python",
   "pygments_lexer": "ipython3",
   "version": "3.10.12"
  }
 },
 "nbformat": 4,
 "nbformat_minor": 5
}
