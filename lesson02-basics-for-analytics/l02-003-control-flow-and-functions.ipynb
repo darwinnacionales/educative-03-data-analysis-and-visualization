{
 "cells": [
  {
   "cell_type": "markdown",
   "id": "dcb8e93e-e26e-4bb1-ae9d-2aa10710b223",
   "metadata": {},
   "source": [
    "# Control Structures in Python"
   ]
  },
  {
   "cell_type": "markdown",
   "id": "8a83651a-5883-4a37-a200-817f6a42a324",
   "metadata": {},
   "source": [
    "## The if-else construct"
   ]
  },
  {
   "cell_type": "code",
   "execution_count": 2,
   "id": "cd23902b-1228-4c47-8d5e-198b3e17b076",
   "metadata": {},
   "outputs": [
    {
     "name": "stdout",
     "output_type": "stream",
     "text": [
      "Older than 40\n"
     ]
    }
   ],
   "source": [
    "def age_check(age):\n",
    "    if age > 40:\n",
    "        print(\"Older than 40\")\n",
    "    elif age > 30 and age <= 40:\n",
    "        print(\"Between 30 and 40\")\n",
    "    else:\n",
    "        print(\"Other\")\n",
    "\n",
    "age_check(41)"
   ]
  },
  {
   "cell_type": "markdown",
   "id": "4b9858e1-4f93-43cf-9075-3615ecf46002",
   "metadata": {},
   "source": [
    "## The for construct"
   ]
  },
  {
   "cell_type": "code",
   "execution_count": 3,
   "id": "d6b6dcdb-c90d-454b-acef-dc48d627cf8b",
   "metadata": {},
   "outputs": [
    {
     "name": "stdout",
     "output_type": "stream",
     "text": [
      "Index: 0\n",
      "Value: tyler\n",
      "Index: 1\n",
      "Value: karen\n",
      "Index: 2\n",
      "Value: jill\n"
     ]
    }
   ],
   "source": [
    "names = ['tyler', 'karen', 'jill']\n",
    "\n",
    "for i, name in enumerate(names):\n",
    "    print(\"Index: {0}\".format(i))\n",
    "    print(\"Value: {0}\".format(name))"
   ]
  },
  {
   "cell_type": "code",
   "execution_count": 5,
   "id": "042434a9-3b88-4fc9-9871-11cff25cb179",
   "metadata": {},
   "outputs": [
    {
     "name": "stdout",
     "output_type": "stream",
     "text": [
      "[6, 7, 8, 9, 10, 11, 12, 13, 14]\n"
     ]
    }
   ],
   "source": [
    "numbers_gt_5 = [x for x in range(1, 15) if x > 5]\n",
    "print(numbers_gt_5)"
   ]
  },
  {
   "cell_type": "code",
   "execution_count": 6,
   "id": "06ce1393-14e1-48b8-9863-e7480081eff4",
   "metadata": {},
   "outputs": [
    {
     "name": "stdout",
     "output_type": "stream",
     "text": [
      "[1, 2, 3, 4, 5]\n"
     ]
    }
   ],
   "source": [
    "nums_plus_one = [x + 1 for x in range(5)]\n",
    "print(nums_plus_one)"
   ]
  },
  {
   "cell_type": "markdown",
   "id": "e6afb40c-ab44-48ef-9d64-48dd1f51cddf",
   "metadata": {},
   "source": [
    "# Built-in Functions in Python"
   ]
  },
  {
   "cell_type": "code",
   "execution_count": 7,
   "id": "0a719085-bd58-4dfe-b46f-8583bb4c7968",
   "metadata": {},
   "outputs": [
    {
     "name": "stdout",
     "output_type": "stream",
     "text": [
      "[-5, 1, 2, 10, 22]\n"
     ]
    }
   ],
   "source": [
    "my_list = [2, 10, 1, -5, 22]\n",
    "my_list.sort()  # sorting the list\n",
    "\n",
    "print(my_list)"
   ]
  },
  {
   "cell_type": "code",
   "execution_count": 8,
   "id": "bca8d6bc-fbfc-452b-89a5-723cdd37139a",
   "metadata": {},
   "outputs": [
    {
     "name": "stdout",
     "output_type": "stream",
     "text": [
      "[22, 10, -5, 2, 1]\n"
     ]
    }
   ],
   "source": [
    "my_list = [2, 10, 1, -5, 22]\n",
    "\n",
    "# Sorted reversely on basis of absolute value\n",
    "my_list_sorted_abs = sorted(my_list, key=abs, reverse=True)\n",
    "\n",
    "print(my_list_sorted_abs)"
   ]
  },
  {
   "cell_type": "markdown",
   "id": "2ddf8f44-dcf8-4439-985f-526a51fc0c02",
   "metadata": {},
   "source": [
    "## The `zip` function"
   ]
  },
  {
   "cell_type": "code",
   "execution_count": 9,
   "id": "c6ef9256-9638-4d0c-b6bd-71201d12e084",
   "metadata": {},
   "outputs": [
    {
     "name": "stdout",
     "output_type": "stream",
     "text": [
      "[(1, 'x'), (2, 'y'), (3, 'z')]\n"
     ]
    }
   ],
   "source": [
    "list_1 = [1, 2, 3]  # create your first list\n",
    "list_2 = ['x', 'y', 'z']  # create your second list\n",
    "\n",
    "print(list(zip(list_1, list_2)))  #combine and print"
   ]
  },
  {
   "cell_type": "code",
   "execution_count": 10,
   "id": "8d6f21c6-ebbc-4daa-8cad-491508340c5c",
   "metadata": {},
   "outputs": [
    {
     "name": "stdout",
     "output_type": "stream",
     "text": [
      "('x', 'y', 'z')\n",
      "(1, 2, 3)\n"
     ]
    }
   ],
   "source": [
    "pairs = [('x', 1), ('y', 2), ('z', 3)]  # a list of tuples\n",
    "letters, numbers = zip(*pairs)  # break into two lists\n",
    "\n",
    "print(letters)  # print the first values of the tuples\n",
    "print(numbers)  # print the second values of the tuples"
   ]
  }
 ],
 "metadata": {
  "kernelspec": {
   "display_name": "Python 3 (ipykernel)",
   "language": "python",
   "name": "python3"
  },
  "language_info": {
   "codemirror_mode": {
    "name": "ipython",
    "version": 3
   },
   "file_extension": ".py",
   "mimetype": "text/x-python",
   "name": "python",
   "nbconvert_exporter": "python",
   "pygments_lexer": "ipython3",
   "version": "3.10.12"
  }
 },
 "nbformat": 4,
 "nbformat_minor": 5
}
