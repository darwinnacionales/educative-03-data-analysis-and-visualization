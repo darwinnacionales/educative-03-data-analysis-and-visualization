{
 "cells": [
  {
   "cell_type": "code",
   "execution_count": 1,
   "id": "0b749a6b-761c-42a4-93cc-a483a0b70a0b",
   "metadata": {},
   "outputs": [
    {
     "name": "stdout",
     "output_type": "stream",
     "text": [
      "Average of non-missing values: 20.833333333333332\n",
      "0     5.000000\n",
      "1    10.000000\n",
      "2    20.833333\n",
      "3    15.000000\n",
      "4    20.000000\n",
      "5    20.833333\n",
      "6    25.000000\n",
      "7    50.000000\n",
      "8    20.833333\n",
      "dtype: float64\n"
     ]
    }
   ],
   "source": [
    "import numpy as np\n",
    "import pandas as pd\n",
    "\n",
    "pd_series = pd.Series([5, 10, np.nan, 15, 20, np.nan, 25, 50, np.nan])\n",
    "print(\"Average of non-missing values: {0}\".format(pd_series.mean()))\n",
    "\n",
    "pd_series = pd_series.fillna(pd_series.mean())\n",
    "print(pd_series)"
   ]
  },
  {
   "cell_type": "code",
   "execution_count": null,
   "id": "7b6bca52-b582-4744-82b2-1c4d88a7cc69",
   "metadata": {},
   "outputs": [],
   "source": []
  }
 ],
 "metadata": {
  "kernelspec": {
   "display_name": "Python 3 (ipykernel)",
   "language": "python",
   "name": "python3"
  },
  "language_info": {
   "codemirror_mode": {
    "name": "ipython",
    "version": 3
   },
   "file_extension": ".py",
   "mimetype": "text/x-python",
   "name": "python",
   "nbconvert_exporter": "python",
   "pygments_lexer": "ipython3",
   "version": "3.10.12"
  }
 },
 "nbformat": 4,
 "nbformat_minor": 5
}
