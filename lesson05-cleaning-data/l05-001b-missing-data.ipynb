{
 "cells": [
  {
   "cell_type": "markdown",
   "id": "8f961824-298d-44a3-9755-693116be6f55",
   "metadata": {},
   "source": [
    "# `dropna()`"
   ]
  },
  {
   "cell_type": "code",
   "execution_count": 1,
   "id": "50138c6c-6249-4bbe-a65b-7654f5cadaee",
   "metadata": {},
   "outputs": [
    {
     "name": "stdout",
     "output_type": "stream",
     "text": [
      "0     5.0\n",
      "1    10.0\n",
      "3    15.0\n",
      "4    20.0\n",
      "6    25.0\n",
      "7    50.0\n",
      "dtype: float64\n"
     ]
    }
   ],
   "source": [
    "import numpy as np\n",
    "import pandas as pd\n",
    "\n",
    "pd_series = pd.Series([5, 10, np.nan, 15, 20, np.nan, 25, 50, np.nan])\n",
    "\n",
    "pd_series = pd_series.dropna()\n",
    "print(pd_series)"
   ]
  },
  {
   "cell_type": "markdown",
   "id": "e4fc7346-931f-4688-a582-caf6e11cad17",
   "metadata": {},
   "source": [
    "# `isnull()`"
   ]
  },
  {
   "cell_type": "code",
   "execution_count": 2,
   "id": "375ce034-8831-4178-9976-3cdfda369fba",
   "metadata": {},
   "outputs": [
    {
     "name": "stdout",
     "output_type": "stream",
     "text": [
      "0    False\n",
      "1    False\n",
      "2     True\n",
      "3    False\n",
      "4    False\n",
      "5     True\n",
      "6    False\n",
      "7    False\n",
      "8     True\n",
      "dtype: bool\n"
     ]
    }
   ],
   "source": [
    "import numpy as np\n",
    "import pandas as pd\n",
    "\n",
    "pd_series = pd.Series([5, 10, np.nan, 15, 20, np.nan, 25, 50, np.nan])\n",
    "print(pd_series.isnull())"
   ]
  },
  {
   "cell_type": "markdown",
   "id": "517befa5-a8d8-4c3a-a203-70b9718990aa",
   "metadata": {},
   "source": [
    "You are returned a new series for which a True value means the actual value is missing and a False value means there is an actual value."
   ]
  }
 ],
 "metadata": {
  "kernelspec": {
   "display_name": "Python 3 (ipykernel)",
   "language": "python",
   "name": "python3"
  },
  "language_info": {
   "codemirror_mode": {
    "name": "ipython",
    "version": 3
   },
   "file_extension": ".py",
   "mimetype": "text/x-python",
   "name": "python",
   "nbconvert_exporter": "python",
   "pygments_lexer": "ipython3",
   "version": "3.10.12"
  }
 },
 "nbformat": 4,
 "nbformat_minor": 5
}
