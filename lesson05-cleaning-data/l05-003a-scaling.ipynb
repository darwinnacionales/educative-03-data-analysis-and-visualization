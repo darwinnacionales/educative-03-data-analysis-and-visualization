{
 "cells": [
  {
   "cell_type": "code",
   "execution_count": 3,
   "id": "0ed57a1b-cf28-45ba-ba3d-61ac46bc8842",
   "metadata": {},
   "outputs": [
    {
     "name": "stdout",
     "output_type": "stream",
     "text": [
      "Before Standard Scaling\n",
      "[-0.125  9.   ]\n",
      "[0.73950997 5.91607978]\n"
     ]
    }
   ],
   "source": [
    "from sklearn.preprocessing import MinMaxScaler, StandardScaler\n",
    "import numpy as np\n",
    "\n",
    "data = [\n",
    "    [-1, 2],\n",
    "    [-0.5, 6],\n",
    "    [0, 10],\n",
    "    [1, 18],\n",
    "]\n",
    "\n",
    "print(\"Before Standard Scaling\")\n",
    "print(np.mean(data, 0))\n",
    "print(np.std(data, 0))"
   ]
  },
  {
   "cell_type": "code",
   "execution_count": 5,
   "id": "1e00e65e-37b9-4a14-b9b3-81c9896c5f60",
   "metadata": {},
   "outputs": [
    {
     "name": "stdout",
     "output_type": "stream",
     "text": [
      "After Standard Scaling\n",
      "[0. 0.]\n",
      "[1. 1.]\n"
     ]
    }
   ],
   "source": [
    "standard = StandardScaler()\n",
    "standard_data = standard.fit_transform(data)\n",
    "\n",
    "print(\"After Standard Scaling\")\n",
    "print(np.mean(standard_data, 0))\n",
    "print(np.std(standard_data, 0))"
   ]
  }
 ],
 "metadata": {
  "kernelspec": {
   "display_name": "Python 3 (ipykernel)",
   "language": "python",
   "name": "python3"
  },
  "language_info": {
   "codemirror_mode": {
    "name": "ipython",
    "version": 3
   },
   "file_extension": ".py",
   "mimetype": "text/x-python",
   "name": "python",
   "nbconvert_exporter": "python",
   "pygments_lexer": "ipython3",
   "version": "3.10.12"
  }
 },
 "nbformat": 4,
 "nbformat_minor": 5
}
