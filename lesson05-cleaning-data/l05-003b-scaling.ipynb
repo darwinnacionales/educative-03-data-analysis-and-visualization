{
 "cells": [
  {
   "cell_type": "code",
   "execution_count": 1,
   "id": "48eb8118-018d-4489-96fd-c7e983045519",
   "metadata": {},
   "outputs": [
    {
     "name": "stdout",
     "output_type": "stream",
     "text": [
      "[0. 0.]\n",
      "[1. 1.]\n",
      "[0.4375 0.4375]\n",
      "[0.36975499 0.36975499]\n"
     ]
    }
   ],
   "source": [
    "from sklearn.preprocessing import MinMaxScaler\n",
    "import numpy as np\n",
    "\n",
    "data = [\n",
    "    [-1, 2],\n",
    "    [-0.5, 6],\n",
    "    [0, 10],\n",
    "    [1, 18],\n",
    "]\n",
    "\n",
    "min_max = MinMaxScaler()\n",
    "min_max_data = min_max.fit_transform(data)\n",
    "\n",
    "print(np.min(min_max_data, 0))\n",
    "print(np.max(min_max_data, 0))\n",
    "print(np.mean(min_max_data, 0))\n",
    "print(np.std(min_max_data, 0))"
   ]
  }
 ],
 "metadata": {
  "kernelspec": {
   "display_name": "Python 3 (ipykernel)",
   "language": "python",
   "name": "python3"
  },
  "language_info": {
   "codemirror_mode": {
    "name": "ipython",
    "version": 3
   },
   "file_extension": ".py",
   "mimetype": "text/x-python",
   "name": "python",
   "nbconvert_exporter": "python",
   "pygments_lexer": "ipython3",
   "version": "3.10.12"
  }
 },
 "nbformat": 4,
 "nbformat_minor": 5
}
