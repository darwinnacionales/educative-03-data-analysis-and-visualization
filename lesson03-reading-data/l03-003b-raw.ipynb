{
 "cells": [
  {
   "cell_type": "code",
   "execution_count": 1,
   "id": "8debeea0-62db-4436-92b1-90d56e12860d",
   "metadata": {},
   "outputs": [
    {
     "name": "stdout",
     "output_type": "stream",
     "text": [
      "['James', 'Sarah', 'Mindy']\n"
     ]
    }
   ],
   "source": [
    "import tempfile\n",
    "\n",
    "tmp = tempfile.NamedTemporaryFile()\n",
    "\n",
    "# Open the file for writing and write our data\n",
    "with open(tmp.name, 'w') as f:\n",
    "    f.write(\"James|22|M\\n\")\n",
    "    f.write(\"Sarah|31|F\\n\")\n",
    "    f.write(\"Mindy|25|F\")\n",
    "\n",
    "first_values = []  # Define a list to store the first values of each row\n",
    "with open(tmp.name, \"r\") as f:  # Open the file to read\n",
    "    for line in f:  # Loop over each line\n",
    "      row_values = line.split(\"|\")  # Split each line by the | character into a list\n",
    "      first_values.append(row_values[0])  # Add the first value to our list\n",
    "      \n",
    "print(first_values)"
   ]
  },
  {
   "cell_type": "code",
   "execution_count": null,
   "id": "fd1e17c2-2869-4a05-87d7-f0fa3d445aaf",
   "metadata": {},
   "outputs": [],
   "source": []
  }
 ],
 "metadata": {
  "kernelspec": {
   "display_name": "Python 3 (ipykernel)",
   "language": "python",
   "name": "python3"
  },
  "language_info": {
   "codemirror_mode": {
    "name": "ipython",
    "version": 3
   },
   "file_extension": ".py",
   "mimetype": "text/x-python",
   "name": "python",
   "nbconvert_exporter": "python",
   "pygments_lexer": "ipython3",
   "version": "3.10.12"
  }
 },
 "nbformat": 4,
 "nbformat_minor": 5
}
