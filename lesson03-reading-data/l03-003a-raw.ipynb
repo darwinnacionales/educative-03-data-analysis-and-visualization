{
 "cells": [
  {
   "cell_type": "code",
   "execution_count": 3,
   "id": "9edb5a0e-be88-441b-a1d5-dcd1d9b721f1",
   "metadata": {},
   "outputs": [
    {
     "name": "stdout",
     "output_type": "stream",
     "text": [
      "James|22|M\n",
      "\n",
      "Sarah|31|F\n",
      "\n",
      "Mindy|25|F\n"
     ]
    }
   ],
   "source": [
    "import tempfile\n",
    "\n",
    "tmp = tempfile.NamedTemporaryFile()\n",
    "\n",
    "# Open the file for writing. And write the data.\n",
    "with open(tmp.name, 'w') as f:\n",
    "    f.write(\"James|22|M\\n\")\n",
    "    f.write(\"Sarah|31|F\\n\")\n",
    "    f.write(\"Mindy|25|F\")\n",
    "\n",
    "# Read in the data from our file, line by line\n",
    "with open(tmp.name, \"r\") as f:\n",
    "    for line in f:\n",
    "      print(line)"
   ]
  },
  {
   "cell_type": "code",
   "execution_count": null,
   "id": "8e35e6e9-4a67-4aef-91a7-9247494ed513",
   "metadata": {},
   "outputs": [],
   "source": []
  }
 ],
 "metadata": {
  "kernelspec": {
   "display_name": "Python 3 (ipykernel)",
   "language": "python",
   "name": "python3"
  },
  "language_info": {
   "codemirror_mode": {
    "name": "ipython",
    "version": 3
   },
   "file_extension": ".py",
   "mimetype": "text/x-python",
   "name": "python",
   "nbconvert_exporter": "python",
   "pygments_lexer": "ipython3",
   "version": "3.10.12"
  }
 },
 "nbformat": 4,
 "nbformat_minor": 5
}
