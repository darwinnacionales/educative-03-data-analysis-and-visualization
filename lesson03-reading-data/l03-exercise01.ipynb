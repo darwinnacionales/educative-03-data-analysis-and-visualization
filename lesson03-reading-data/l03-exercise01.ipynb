{
 "cells": [
  {
   "cell_type": "code",
   "execution_count": 2,
   "id": "de75f227-583d-4b4a-b57c-b03b9c7f834f",
   "metadata": {},
   "outputs": [
    {
     "name": "stdout",
     "output_type": "stream",
     "text": [
      "(398, 9)\n"
     ]
    }
   ],
   "source": [
    "import pandas as pd\n",
    "\n",
    "def read_csv():\n",
    "    names = ['mpg', 'cylinders', 'displacement', 'horsepower', 'weight', 'acceleration', 'model year', 'origin', 'car name']\n",
    "    \n",
    "    df = pd.read_csv('auto-mpg.data', header=None, names=names, delimiter=r\"\\s+\")\n",
    "    \n",
    "    return df.shape\n",
    "\n",
    "print(read_csv())"
   ]
  },
  {
   "cell_type": "code",
   "execution_count": null,
   "id": "96f61446-e60c-4813-a455-774aa5b5b75a",
   "metadata": {},
   "outputs": [],
   "source": []
  }
 ],
 "metadata": {
  "kernelspec": {
   "display_name": "Python 3 (ipykernel)",
   "language": "python",
   "name": "python3"
  },
  "language_info": {
   "codemirror_mode": {
    "name": "ipython",
    "version": 3
   },
   "file_extension": ".py",
   "mimetype": "text/x-python",
   "name": "python",
   "nbconvert_exporter": "python",
   "pygments_lexer": "ipython3",
   "version": "3.10.12"
  }
 },
 "nbformat": 4,
 "nbformat_minor": 5
}
